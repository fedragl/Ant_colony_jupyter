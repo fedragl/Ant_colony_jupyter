{
 "cells": [
  {
   "cell_type": "markdown",
   "metadata": {},
   "source": [
    "Pseudo skeleton code for ACO algorithm applied to TSP (Mohsin,Thangavelu. (2021))\n",
    "\n",
    "Introduction to the solution \n",
    "%Ant system for solving the traveling salesman problem:\n",
    "<Input of matrix D of distances>\n",
    "<Initialization of the parameters of the algorithm: α, β, Q, p, and τ0>\n",
    "m=n %Number of ants is equal to the number of towns\n",
    "For k=1:m\n",
    "    <Allocate ant k in randomly chosen town>\n",
    "End\n",
    "<Select a conditionally shortest route T+ and calculate its length L+>;\n",
    "%Main loop\n",
    "For t=1:tma\n",
    " %For each ant:\n",
    "    <Build a route Tk(t) according to rule (1)>\n",
    "    <Calculate Lk(t), the length of the route Tk(t)>\n",
    "    End\n",
    "    If “Is the best solution found?” <Update T+ and L+> End\n",
    "    For i=1:n\n",
    "        For j=1:n %For each edge\n",
    "            <Update pheromone trails according to rule (2)>\n",
    "        End\n",
    "    End\n",
    "End\n",
    "\n",
    "Sections\n",
    "Read tsp file \n",
    "Create LIST with the cities and coordinates\n",
    "create ARRAY with distances between cities (the number of distances is a combination nCr 323 distancias)\n",
    "\n",
    "Questions:\n",
    "Whats the answer format? And array with the rute example city1, city4, city5....cityn"
   ]
  },
  {
   "cell_type": "code",
   "execution_count": 1,
   "metadata": {},
   "outputs": [],
   "source": [
    "##import libraries\n",
    "import math\n",
    "import pandas as pd\n",
    "import numpy as np\n",
    "import random"
   ]
  },
  {
   "cell_type": "markdown",
   "metadata": {},
   "source": [
    "following code shows script to read the content of the tsp file and store it in a list and each index is a tuple that contains city-n, x,y\n",
    "[( ),( ),( ),( ),....................,( )]\n",
    "#from now on we are going to address the cities by their index in the list/Array/matrix instead of their city collum value to prevent confusions \n",
    "index[n-1]   city_n    coordinatesX     coordinatesY\n",
    "0               1       11003.611100    42102.500000           "
   ]
  },
  {
   "cell_type": "code",
   "execution_count": 2,
   "metadata": {},
   "outputs": [],
   "source": [
    "# Open input file\n",
    "cities = [] #create array to store cities\n",
    "file = open('dj38.tsp', 'r') #read file\n",
    "lines = file.readlines() #read lines\n",
    "for line in (lines[10:]): #loop over lines\n",
    "    # Assumes the file format: <CityIndex> <X> <Y>\n",
    "    city_index, x, y = map(float, line.strip().split()) #separate elements by blank space\n",
    "    cities.append((city_index, x, y)) #creates a list with al the elements city, x, y"
   ]
  },
  {
   "cell_type": "markdown",
   "metadata": {},
   "source": [
    "Following code shows the calculation of distances between the cities, visibility, and matrixes fill up \n",
    "distance_func: Function that calculates the distance between two nodes/points/Cities given two cities (i,j)\n",
    "visibility_func: function that calculates the visibility between two nodes/points/cities given two cities(i,j)\n",
    "\n",
    "distances: (D_ij) matrix that stores all distances between nodes\n",
    "visibility: (η_ij) matrix that stores all visibilities between nodes\n",
    "pheromones_t:  (𝜏_ij(t)) matrix that stores pheromone strenght (number of virtual pheromone on the edge i,j) between nodes at t time (iteration) changes with each iteration"
   ]
  },
  {
   "cell_type": "code",
   "execution_count": 3,
   "metadata": {},
   "outputs": [],
   "source": [
    "def distance_func(city_i,city_j): #city i is current city while city j is the next city\n",
    "    x1=cities[city_i][1] #identify x1 coordinate\n",
    "    x2=cities[city_j][1] #identify x2 coordinate\n",
    "    y1=cities[city_i][2] #identify y1 coordinate\n",
    "    y2=cities[city_j][2] #identify y2 coordinate\n",
    "    d=math.sqrt((x2-x1)**2+(y2-y1)**2) ##apply formula for the distance between two points\n",
    "    d=round(d,2)\n",
    "    return d\n",
    "\n",
    "def visibility_func(city_i,city_j): #city i is current city while city j is the next city\n",
    "    if distances[city_i][city_j]==0:\n",
    "        nij=0\n",
    "    else:\n",
    "        nij=1/distance_func(city_i,city_j) #distances[city_i][city_j] ##apply formula for the distance between two points\n",
    "        nij=round(nij,3)\n",
    "    return nij\n",
    "\n",
    "#matrixes declaration\n",
    "distances = np.array([np.array([distance_func(i,j) for i in range(len(cities))]) for j in range(len(cities))])\n",
    "visibilities = np.array([np.array([visibility_func(i,j) for i in range(len(cities))])for j in range(len(cities))])\n",
    "pheromones_t = np.ones((len(cities),len(cities))) #𝜏_ij"
   ]
  },
  {
   "cell_type": "markdown",
   "metadata": {},
   "source": [
    "following codes shows initial solution for ONE ant"
   ]
  },
  {
   "cell_type": "code",
   "execution_count": 5,
   "metadata": {},
   "outputs": [
    {
     "name": "stdout",
     "output_type": "stream",
     "text": [
      "35888.590000000004\n",
      "37816.27\n",
      "38164.36999999999\n",
      "([10, 17, 4, 16, 12, 24, 34, 31, 36, 26, 25, 22, 2, 5, 15, 30, 33, 32, 11, 14, 8, 7, 19, 6, 23, 27, 37, 9, 13, 28, 21, 0, 1, 3, 20, 18, 29, 35], 38164.36999999999)\n"
     ]
    }
   ],
   "source": [
    "#parameters\n",
    "alpha = 1                                                                   #pheromone value(how likely is to take into account pheromone value)\n",
    "beta = 1                                                                    #heuristic value(how likely is to take randomness into account?)\n",
    "p = 1.1                                                                       #pheromone evaporation coefficient\n",
    "n=len(cities)                                                                 \n",
    "k=n                                                                           #number of ants given the number of cities\n",
    "ants_routes=[]                                                                #list that stores the routes ants take in their trips\n",
    "\n",
    "#Ant_k starts in city i (same value as ant) and then goes on to j and so on until it completes a route and then goes Ant_1....and so on until Ant_n\n",
    "for ant_k in range (len(cities)):\n",
    "      tabu_list_k = np.array([x for x in range (len(cities))])                      #list of unvisited cities for ant k\n",
    "      i=ant_k                                                                       #starts at city 0\n",
    "      tabu_list_k = np.delete(tabu_list_k,np.where(tabu_list_k==i))                 #deletes from the tabu list on this ant k the city they are visiting\n",
    "      route_ant_k=[i]\n",
    "      route_lenght=0                                                                       \n",
    "\n",
    "      #next city decision\n",
    "      while i not in tabu_list_k:                                                   #while ant at city (i) not in the list of not visited cities decide which city visit next\n",
    "            probabilities=[]                                                        #stores the probability for each not visited city\n",
    "            prob_complement=[]                                                        #complement of above\n",
    "            \n",
    "            #chooses next city (trans: starts a decision loop to choose next city (j))\n",
    "            for j in tabu_list_k:\n",
    "                  probability_il = 0                                                #sets probability for not visited cities to 0\n",
    "                  for l in tabu_list_k:                                             #loops over all the cities not visited \n",
    "                        probability_il += (pheromones_t[i][l]*alpha*(visibilities[i][l])*beta) #calculates cumulative probability of not visited cities\n",
    "                        #probability_il=round(probability_il,3)\n",
    "\n",
    "                  probability_ij = (pheromones_t[i][j]*alpha*(1/distance_func(i,j))*beta) /probability_il #probability of visiting next city give the formula\n",
    "\n",
    "                  probabilities.append(probability_ij)                           #adds  probability of each city (to become next city \"j\" ) into a list to later choose randomly from it\n",
    "                  prob_complement.append(j)                                        #complement from above\n",
    "            \n",
    "            #choose next city\n",
    "            next_city=random.choices(prob_complement, weights = probabilities)       #random.choices function returns a list type, chooses randomly but takes \"pheromones into account\"\n",
    "            route_lenght=route_lenght+distance_func(i,j)\n",
    "\n",
    "            #update pheromones\n",
    "            pheromones_t[i][next_city]+=1/route_lenght\n",
    "            pheromones_t*=p\n",
    "            # for i in range(len(cities)):\n",
    "            #       for j in range(len(cities)):\n",
    "            #             pheromones_t[i][j]=((1-p)*(pheromones_t[i][j]))+pheromones_t[i][j]\n",
    "\n",
    "            i=next_city[0]                                                           #new city that is going to be visited\n",
    "            route_ant_k.append(i)                                                   #adds the city to the route (list)                                                          \n",
    "            tabu_list_k = np.delete(tabu_list_k,np.where(tabu_list_k==i))           #deletes from the tabu list on this ant k the city they are visiting\n",
    "            if len(tabu_list_k)==0:                                                 #when all cities on the tabu list have been visited the loop finishes\n",
    "                  break\n",
    "\n",
    "      ants_routes.append((route_ant_k,route_lenght))\n",
    "\n",
    "\n",
    "best=ants_routes[x][1]      \n",
    "for x in range (len(ants_routes)):\n",
    "      if ants_routes[x][1]=<best:\n",
    "            best=ants_routes[x][1]\n",
    "            index=x\n",
    "print(ants_routes[index])\n"
   ]
  },
  {
   "cell_type": "code",
   "execution_count": null,
   "metadata": {},
   "outputs": [],
   "source": [
    "x=37*38\n",
    "print(x)\n",
    "\n",
    "import random\n",
    "\n",
    "mylist = [\"apple\", \"banana\", \"cherry\"]\n",
    "print(random.choices(mylist, weights = [10, 1, 1]))\n"
   ]
  },
  {
   "cell_type": "markdown",
   "metadata": {},
   "source": [
    "BIO\n",
    "MOHAMED Mohsin, AJANTH Thangavelu\n",
    "On Embarrassingly Parallel MaxMin Ant Colony Optimization for\n",
    "Traveling Salesperson Problem. 2021\n",
    "\n",
    "\n",
    "https://www.diva-portal.org/smash/get/diva2:1610275/FULLTEXT01.pdf\n",
    "https://iopscience.iop.org/article/10.1088/1742-6596/1566/1/012045/pdf"
   ]
  }
 ],
 "metadata": {
  "kernelspec": {
   "display_name": "Python 3",
   "language": "python",
   "name": "python3"
  },
  "language_info": {
   "codemirror_mode": {
    "name": "ipython",
    "version": 3
   },
   "file_extension": ".py",
   "mimetype": "text/x-python",
   "name": "python",
   "nbconvert_exporter": "python",
   "pygments_lexer": "ipython3",
   "version": "3.12.2"
  }
 },
 "nbformat": 4,
 "nbformat_minor": 2
}
