{
 "cells": [
  {
   "cell_type": "markdown",
   "metadata": {},
   "source": [
    "Pseudo skeleton code for ACO algorithm applied to TSP (Mohsin,Thangavelu. (2021))\n",
    "\n",
    "procedure (Find approximate solution for TSP)\n",
    "    set parameters, initialize pheromone trails\n",
    "    while termination condidtion not met do\n",
    "        ConstructSolutions\n",
    "            randomized constructive search\n",
    "        ApplyLocalSearch %optional\n",
    "        UpdateTrails\n",
    "    end\n",
    "end\n",
    "\n",
    "Sections\n",
    "Read tsp file \n",
    "Create LIST with the cities and coordinates\n",
    "create ARRAY with distances between cities (the number of distances is a combination nCr 323 distancias)\n",
    "\n",
    "Questions:\n",
    "Whats the answer format? And array with the rute example city1, city4, city5....cityn"
   ]
  },
  {
   "cell_type": "code",
   "execution_count": 2,
   "metadata": {},
   "outputs": [],
   "source": [
    "##import libraries\n",
    "import math"
   ]
  },
  {
   "cell_type": "markdown",
   "metadata": {},
   "source": [
    "following code shows script to read the content of the tsp file and store it in a list and each index is a tuple that contains city-n, x,y\n",
    "[( ),( ),( ),( ),....................,( )]\n",
    "index[n-1]   city_n    coordinatesX     coordinatesY\n",
    "0               1       11003.611100    42102.500000           "
   ]
  },
  {
   "cell_type": "code",
   "execution_count": 3,
   "metadata": {},
   "outputs": [
    {
     "name": "stdout",
     "output_type": "stream",
     "text": [
      "(1.0, 11003.6111, 42102.5)\n"
     ]
    }
   ],
   "source": [
    "# Open input file\n",
    "cities = []\n",
    "file = open('dj38.tsp', 'r')\n",
    "lines = file.readlines()\n",
    "for line in (lines[10:]):\n",
    "    # Assumes the file format: <CityIndex> <X> <Y>\n",
    "    city_index, x, y = map(float, line.strip().split())\n",
    "    cities.append((city_index, x, y))\n",
    "print(cities[0])\n"
   ]
  },
  {
   "cell_type": "markdown",
   "metadata": {},
   "source": [
    "Following code shows the calculation of distances between the cities #intentar hacerlo como una matriz \n",
    "#change in approach create a function that calculates the distance between two nodes/points/Cities\n",
    "#function that calculates the visibility between two nodes/points/cities"
   ]
  },
  {
   "cell_type": "code",
   "execution_count": 16,
   "metadata": {},
   "outputs": [],
   "source": [
    "def distance_func(city_i,city_j): #city i is current city while city j is the next city\n",
    "    x1=cities[city_i][1] #identify x1 coordinate\n",
    "    x2=cities[city_j][1] #identify x2 coordinate\n",
    "    y1=cities[city_i][2] #identify y1 coordinate\n",
    "    y2=cities[city_j][2] #identify y2 coordinate\n",
    "    d=math.sqrt((x2-x1)**2+(y2-y1)**2) ##apply formula for the distance between two points\n",
    "    return d\n",
    "\n",
    "def visibility_func(city_i,city_j): #city i is current city while city j is the next city\n",
    "    if distances[city_i][city_j]==0:\n",
    "        nij=0\n",
    "    else:\n",
    "        nij=1/distance_func(city_i,city_j) ##apply formula for the distance between two points\n",
    "    return nij\n",
    "\n",
    "distances=[] #distances matrix\n",
    "for i in range(len(cities)):\n",
    "    rows=[]\n",
    "    for j in range (len(cities)):\n",
    "        ##x1=cities[x][1] #identify x1 coordinate\n",
    "        ##x2=cities[i][1] #identify x2 coordinate\n",
    "        ##y1=cities[x][2] #identify y1 coordinate\n",
    "        ##y2=cities[i][2] #identify y2 coordinate\n",
    "        \n",
    "        ##d = math.sqrt((x2-x1)**2+(y2-y1)**2) ##apply formula for the distance between two points\n",
    "        d=distance_func(i,j)\n",
    "        rows.append(d)\n",
    "    distances.append(rows)\n",
    "\n",
    "visibility=[] #visibility matrix\n",
    "for i in range(len(cities)):\n",
    "    rows_v=[]\n",
    "    for j in range(len(cities)):\n",
    "        v=visibility_func(i,j)\n",
    "        #if distances[i][j] == 0:\n",
    "        #    v=0\n",
    "        #else:\n",
    "        #    v = 1/distances[i][j] #visibility formula\n",
    "        rows_v.append(v)\n",
    "    visibility.append(rows_v)"
   ]
  },
  {
   "cell_type": "markdown",
   "metadata": {},
   "source": [
    "Introduction to the solution \n",
    "%Ant system for solving the traveling salesman problem:\n",
    "<Input of matrix D of distances>\n",
    "<Initialization of the parameters of the algorithm: α, β, Q, p, and τ0>\n",
    "m=n %Number of ants is equal to the number of towns\n",
    "For k=1:m\n",
    "    <Allocate ant k in randomly chosen town>\n",
    "End\n",
    "<Select a conditionally shortest route T+ and calculate its length L+>;\n",
    "%Main loop\n",
    "For t=1:tma\n",
    " %For each ant:\n",
    "    <Build a route Tk(t) according to rule (1)>\n",
    "    <Calculate Lk(t), the length of the route Tk(t)>\n",
    "    End\n",
    "    If “Is the best solution found?” <Update T+ and L+> End\n",
    "    For i=1:n\n",
    "        For j=1:n %For each edge\n",
    "            <Update pheromone trails according to rule (2)>\n",
    "        End\n",
    "    End\n",
    "End"
   ]
  },
  {
   "cell_type": "code",
   "execution_count": 54,
   "metadata": {},
   "outputs": [
    {
     "name": "stdout",
     "output_type": "stream",
     "text": [
      "-0.0002030756642075114\n"
     ]
    }
   ],
   "source": [
    "tau_ij_t = .01  #number of virtual pheromone on the edge at t time, will experience changes\n",
    "alpha = 0.1  #pheromone\n",
    "beta = 1     #heuristic value\n",
    "p = .5 #pheromone evaporation coefficient\n",
    "\n",
    "tabu_list=[] #list of not visited cities\n",
    "\n",
    "for k in len(cities) #num of iterations given the number of ants, ants given by the number of cities\n",
    "    for i in range(len(cities)): \n",
    "        for j in range(len(cities)):\n",
    "            probability_j=tau_ij_t*alpha*visibility[i][j]*beta / "
   ]
  },
  {
   "cell_type": "markdown",
   "metadata": {},
   "source": [
    "BIO\n",
    "MOHAMED Mohsin, AJANTH Thangavelu\n",
    "On Embarrassingly Parallel MaxMin Ant Colony Optimization for\n",
    "Traveling Salesperson Problem. 2021"
   ]
  }
 ],
 "metadata": {
  "kernelspec": {
   "display_name": "Python 3",
   "language": "python",
   "name": "python3"
  },
  "language_info": {
   "codemirror_mode": {
    "name": "ipython",
    "version": 3
   },
   "file_extension": ".py",
   "mimetype": "text/x-python",
   "name": "python",
   "nbconvert_exporter": "python",
   "pygments_lexer": "ipython3",
   "version": "3.12.2"
  }
 },
 "nbformat": 4,
 "nbformat_minor": 2
}
