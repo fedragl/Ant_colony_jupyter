{
 "cells": [
  {
   "cell_type": "markdown",
   "metadata": {},
   "source": [
    "Pseudo skeleton code for ACO algorithm applied to TSP (Mohsin,Thangavelu. (2021))\n",
    "\n",
    "procedure (Find approximate solution for TSP)\n",
    "    set parameters, initialize pheromone trails\n",
    "    while termination condidtion not met do\n",
    "        ConstructSolutions\n",
    "            randomized constructive search\n",
    "        ApplyLocalSearch %optional\n",
    "        UpdateTrails\n",
    "    end\n",
    "end\n",
    "\n",
    "Sections\n",
    "Read tsp file \n",
    "Create LIST with the cities and coordinates\n",
    "create ARRAY with distances between cities (the number of distances is a combination nCr 323 distancias)\n",
    "\n",
    "Questions:\n",
    "Whats the answer format? And array with the rute example city1, city4, city5....cityn"
   ]
  },
  {
   "cell_type": "code",
   "execution_count": 23,
   "metadata": {},
   "outputs": [],
   "source": [
    "##import libraries\n",
    "import math"
   ]
  },
  {
   "cell_type": "markdown",
   "metadata": {},
   "source": [
    "following code shows script to read the content of the tsp file and store it in a list and each index is a tuple that contains city-n, x,y\n",
    "[( ),( ),( ),( ),....................,( )]\n",
    "index[n-1]   city_n    coordinatesX     coordinatesY\n",
    "0               1       11003.611100    42102.500000           "
   ]
  },
  {
   "cell_type": "code",
   "execution_count": 24,
   "metadata": {},
   "outputs": [
    {
     "name": "stdout",
     "output_type": "stream",
     "text": [
      "(2.0, 11108.6111, 42373.8889)\n"
     ]
    }
   ],
   "source": [
    "# Open input file\n",
    "cities = []\n",
    "file = open('dj38.tsp', 'r')\n",
    "lines = file.readlines()\n",
    "for line in (lines[10:]):\n",
    "    # Assumes the file format: <CityIndex> <X> <Y>\n",
    "    city_index, x, y = map(float, line.strip().split())\n",
    "    cities.append((city_index, x, y))\n",
    "print(cities[1])\n"
   ]
  },
  {
   "cell_type": "markdown",
   "metadata": {},
   "source": [
    "Following code shows the calculation of distances between the cities #intentar hacerlo como una matriz "
   ]
  },
  {
   "cell_type": "code",
   "execution_count": 44,
   "metadata": {},
   "outputs": [],
   "source": [
    "distances=[]\n",
    "for i in range(0,38):\n",
    "    for x in range (i+1,38):\n",
    "        x1=cities[x][1] #identify x1 coordinate\n",
    "        x2=cities[i][1] #identify x2 coordinate\n",
    "        y1=cities[x][2] #identify y1 coordinate\n",
    "        y2=cities[i][2] #identify y2 coordinate\n",
    "        \n",
    "        d=math.sqrt((x2-x1)**2+(y2-y1)**2) ##apply formula for the distance between two points\n",
    "        d=((i,x),d) #first element (cities) is a tuple (i,x) and the second is a float (distance)\n",
    "        distances.append(d)"
   ]
  },
  {
   "cell_type": "markdown",
   "metadata": {},
   "source": [
    "Introduction to the solution \n",
    "%Ant system for solving the traveling salesman problem:\n",
    "<Input of matrix D of distances>\n",
    "<Initialization of the parameters of the algorithm: α, β, Q, p, and τ0>\n",
    "m=n %Number of ants is equal to the number of towns\n",
    "For i=1:n %For each edge\n",
    "    For j=1:n\n",
    "        If i~=j\n",
    "            η(i,j)=1/D(i,j) %Visibility\n",
    "            τ(i,j)= τ0 %Pheromone\n",
    "        Else τ(i,j)=0\n",
    "        End\n",
    "    End\n",
    "End\n"
   ]
  },
  {
   "cell_type": "code",
   "execution_count": 45,
   "metadata": {},
   "outputs": [
    {
     "name": "stdout",
     "output_type": "stream",
     "text": [
      "38\n"
     ]
    }
   ],
   "source": [
    "k = len(cities) #number of ants given the number of cities  \n",
    "tau_t = .01  #number of virtual pheromone on the edge at t time, will experience changes\n",
    "alpha = 0.1  #pheromone\n",
    "beta = 1     #heuristic value\n",
    "p = .5 #pheromone evaporation coefficient"
   ]
  },
  {
   "cell_type": "markdown",
   "metadata": {},
   "source": [
    "BIO\n",
    "MOHAMED Mohsin, AJANTH Thangavelu\n",
    "On Embarrassingly Parallel MaxMin Ant Colony Optimization for\n",
    "Traveling Salesperson Problem. 2021"
   ]
  }
 ],
 "metadata": {
  "kernelspec": {
   "display_name": "Python 3",
   "language": "python",
   "name": "python3"
  },
  "language_info": {
   "codemirror_mode": {
    "name": "ipython",
    "version": 3
   },
   "file_extension": ".py",
   "mimetype": "text/x-python",
   "name": "python",
   "nbconvert_exporter": "python",
   "pygments_lexer": "ipython3",
   "version": "3.12.2"
  }
 },
 "nbformat": 4,
 "nbformat_minor": 2
}
